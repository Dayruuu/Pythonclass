{
 "cells": [
  {
   "cell_type": "code",
   "execution_count": null,
   "id": "dab5e682-d36e-4a68-9376-4b30ca165350",
   "metadata": {},
   "outputs": [],
   "source": [
    "#import data\n",
    "mat= scipy.io.loadmat('path to your matlab data')\n",
    "rawdata= mat['index of rawdata in matlab data']\n",
    "#import sampling intervals\n",
    "sampling= mat['index of sampling interval in matlab data']\n",
    "#indicate number of channels in data\n",
    "channelnumber=\n",
    "#indicate wished threshold \n",
    "threshold=\n",
    "#indicate channelnumber to search for spikes in\n",
    "channel="
   ]
  },
  {
   "cell_type": "code",
   "execution_count": null,
   "id": "56da9f16-9386-4712-8d0e-a622bc16060f",
   "metadata": {
    "tags": []
   },
   "outputs": [],
   "source": [
    "import scipy\n",
    "import numpy as np"
   ]
  },
  {
   "cell_type": "code",
   "execution_count": null,
   "id": "b645eeda-e3fd-40b1-9374-d32a6e4552ec",
   "metadata": {
    "tags": []
   },
   "outputs": [],
   "source": [
    "#find positive spikes\n",
    "def positive_spikes():\n",
    "    for point in range (len(rawdata)):\n",
    "        if rawdata[point,channel-1] > threshold and rawdata[point-1,channel-1]<=threshold:\n",
    "            timestamplist_channel.append(point*(sampling/1000))\n",
    "#find negative spikes\n",
    "def negative_spikes():\n",
    "    for point in range (len(rawdata)):\n",
    "        if rawdata [point, channel-1]<threshold and rawdata[point-1,channel-1]>=threshold:\n",
    "            timestamplist_channel.append (point*(sampling/1000))"
   ]
  },
  {
   "cell_type": "code",
   "execution_count": null,
   "id": "8ad762ad-c808-4839-9e33-bad6fe869037",
   "metadata": {
    "tags": []
   },
   "outputs": [],
   "source": [
    "#deciding when to search for negative and when for positive spikes\n",
    "def threshold_choice():\n",
    "    if threshold>=0:\n",
    "        #perform positive threshold function\n",
    "        positive_spikes()\n",
    "    if threshold<0:\n",
    "        #perform negative threshold function\n",
    "        negative_spikes()"
   ]
  },
  {
   "cell_type": "code",
   "execution_count": null,
   "id": "e9d4ab4e-e8d8-4640-ac97-0a9cc9e74244",
   "metadata": {
    "tags": []
   },
   "outputs": [],
   "source": [
    "#define empty timestamplists for every channel\n",
    "for channel in range (channelnumber):\n",
    "    timestamplist_channel=[]"
   ]
  },
  {
   "cell_type": "code",
   "execution_count": null,
   "id": "470c622a-56d2-4543-bae9-7236d25099dd",
   "metadata": {
    "tags": []
   },
   "outputs": [],
   "source": [
    "#perform main function\n",
    "threshold_choice()"
   ]
  },
  {
   "cell_type": "code",
   "execution_count": null,
   "id": "45ba377d-5a18-463e-b5c0-f97f4a8405e0",
   "metadata": {
    "tags": []
   },
   "outputs": [],
   "source": [
    "#output array \n",
    "np.array(timestamplist_channel).reshape(len(timestamplist_channel),1)"
   ]
  }
 ],
 "metadata": {
  "kernelspec": {
   "display_name": "Python 3 (ipykernel)",
   "language": "python",
   "name": "python3"
  },
  "language_info": {
   "codemirror_mode": {
    "name": "ipython",
    "version": 3
   },
   "file_extension": ".py",
   "mimetype": "text/x-python",
   "name": "python",
   "nbconvert_exporter": "python",
   "pygments_lexer": "ipython3",
   "version": "3.11.5"
  }
 },
 "nbformat": 4,
 "nbformat_minor": 5
}
